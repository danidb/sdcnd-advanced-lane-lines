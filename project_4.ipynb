{
 "cells": [
  {
   "cell_type": "markdown",
   "metadata": {},
   "source": [
    "# Advanced Lane-Line Detection \n",
    "\n",
    "The following notebook contains sample imagery, descriptions, and simple templated sources. It cannot stand without the accompanying sources in this repository. "
   ]
  },
  {
   "cell_type": "code",
   "execution_count": 1,
   "metadata": {
    "collapsed": false
   },
   "outputs": [],
   "source": [
    "import os \n",
    "import matplotlib.pyplot as plt\n",
    "from scipy import misc"
   ]
  },
  {
   "cell_type": "markdown",
   "metadata": {},
   "source": [
    "## Camera calibration \n",
    "\n",
    "Relevant sources are in `calibrator.py`. "
   ]
  },
  {
   "cell_type": "code",
   "execution_count": 2,
   "metadata": {
    "collapsed": false
   },
   "outputs": [],
   "source": [
    "%run calibrator.py\n",
    "\n",
    "image_dir, _, image_names = list(os.walk('camera_cal'))[0]\n",
    "calibration_image_paths = [os.path.abspath(os.path.join(image_dir, name)) for name in image_names]\n",
    "\n",
    "# See calibrator.py for details of this class. \n",
    "cal = Calibrator((9,6), calibration_image_paths)"
   ]
  },
  {
   "cell_type": "markdown",
   "metadata": {
    "collapsed": true
   },
   "source": [
    "## Perspective alteration \n",
    " Relevant sources are in `perspectifier.py`. "
   ]
  },
  {
   "cell_type": "code",
   "execution_count": 10,
   "metadata": {
    "collapsed": false
   },
   "outputs": [],
   "source": [
    "%run perspectifier.py\n",
    "\n",
    "# See perspectifier.py for details of this class\n",
    "per = Perspectifier(source_points = np.array([[775, 640], [822,640], [360, 915], [1270, 915]], np.float32), \n",
    "                    destination_points = np.array([[360, 640], [1270, 640], [360, 915], [1270, 915]], np.float32))"
   ]
  },
  {
   "cell_type": "markdown",
   "metadata": {},
   "source": [
    "## "
   ]
  },
  {
   "cell_type": "code",
   "execution_count": null,
   "metadata": {
    "collapsed": true
   },
   "outputs": [],
   "source": []
  }
 ],
 "metadata": {
  "anaconda-cloud": {},
  "kernelspec": {
   "display_name": "Python [conda root]",
   "language": "python",
   "name": "conda-root-py"
  },
  "language_info": {
   "codemirror_mode": {
    "name": "ipython",
    "version": 3
   },
   "file_extension": ".py",
   "mimetype": "text/x-python",
   "name": "python",
   "nbconvert_exporter": "python",
   "pygments_lexer": "ipython3",
   "version": "3.5.2"
  }
 },
 "nbformat": 4,
 "nbformat_minor": 1
}
